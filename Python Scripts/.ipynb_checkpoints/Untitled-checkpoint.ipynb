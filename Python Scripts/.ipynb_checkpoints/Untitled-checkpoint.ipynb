{
 "cells": [
  {
   "cell_type": "code",
   "execution_count": 2,
   "id": "f09e75c0",
   "metadata": {},
   "outputs": [],
   "source": [
    "import sympy as sp\n",
    "import numpy as np\n",
    "import matplotlib.pyplot as plt"
   ]
  },
  {
   "cell_type": "code",
   "execution_count": 4,
   "id": "c0ffd93b",
   "metadata": {},
   "outputs": [],
   "source": [
    "def spline(xs, ys, x):\n",
    "    def h(i):\n",
    "        if i == 0:\n",
    "            i += 1\n",
    "        return xs[i] - xs[i-1]\n",
    "    \n",
    "    def all_args(i):\n",
    "        F = (ys[i+1] - ys[i])/h(i+1) - (ys[i] - ys[i-1])/h(i)\n",
    "        A = h(i)/6\n",
    "        B = (h(i) + h(i+1))/3\n",
    "        C = h(i+1)/6\n",
    "        return (A, B, C, F)\n",
    "    \n",
    "    def alpha(i):\n",
    "        A, B, C, F = all_args(i-1)\n",
    "        if i == 1:\n",
    "            return -C/B\n",
    "        return -C/(A*alpha(i-1) + B)\n",
    "    \n",
    "    def beta(i):\n",
    "        A, B, C, F = all_args(i-1)\n",
    "        if i == 1:\n",
    "            return F/B\n",
    "        return (F - A*beta(i-1))/(A*alpha(i-1) + B)\n",
    "    \n",
    "    def gamma(i):\n",
    "        if i == 0 or i == len(xs) - 1:\n",
    "            return 0\n",
    "        if i == len(xs) - 2:\n",
    "            A, B, C, F = all_args(i)\n",
    "            return (F - A*beta(i)) / (B + A*alpha(i))\n",
    "        return alpha(i+1) * gamma(i+1) + beta(i+1)\n",
    "    i = 0\n",
    "    vals = []\n",
    "    for xi in x:\n",
    "        while (i < len(xs) - 2) and not(xs[i] <= xi <= xs[i+1]):\n",
    "            i += 1\n",
    "        prt1 = (xs[i+1] - xi)/h(i+1)\n",
    "        prt2 = (xi - xs[i])/h(i+1)\n",
    "        prt3 = ((xs[i+1] - xi)**3 - h(i+1)**2 * (xs[i+1] - xi))/(6*h(i+1))\n",
    "        prt4 = ((xi - xs[i])**3 - h(i+1)**2 * (xi - xs[i]))/(6*h(i+1))\n",
    "        val = ys[i] * prt1 \\\n",
    "            + ys[i+1] * prt2 \\\n",
    "            + gamma(i) * prt3 \\\n",
    "            + gamma(i+1) * prt4\n",
    "        if abs(xi - xs[i]) < 1e-7 and abs(val - ys[i]) > 1e-7:\n",
    "            print(xs[i+1], xi, xs[i])\n",
    "            print(prt1, prt2, prt3, prt4, val, ys[i])\n",
    "        vals += [val]\n",
    "    return vals"
   ]
  },
  {
   "cell_type": "code",
   "execution_count": 5,
   "id": "bece94a9",
   "metadata": {},
   "outputs": [],
   "source": [
    "# Functions\n",
    "\n",
    "def put(f, x, arg):\n",
    "    f = lambdify(x, f)\n",
    "    return f(*arg)\n",
    "\n",
    "def jacobian(f, x):\n",
    "    return np.matrix([[ fi.diff(xi) for fi in f ] for xi in x])\n",
    "\n",
    "def mult_put(xf, x, args):\n",
    "    return np.vectorize(lambda f: put(f, x, args))(xf)\n",
    "\n",
    "def print_values(x, X):\n",
    "    xX = [ str(x[i])+\" = \"+str(X[i]) for i in range(len(X))]\n",
    "    print(*xX, sep = \",\\t \")\n",
    "\n",
    "def newtone(xf, x, J, eps):\n",
    "    X = np.array([ z+1 for z in np.zeros(len(x)) ])\n",
    "    XF = mult_put(xf, x, X)\n",
    "    iterations = 0\n",
    "    while any(abs(xfi) > eps for xfi in XF):\n",
    "        JX = mult_put(J, x, X)**(-1)\n",
    "        X -= (XF*JX).A1\n",
    "        XF = mult_put(xf, x, X)\n",
    "        iterations += 1\n",
    "        \n",
    "        print(str(iterations)+\")\", end=\" \")\n",
    "        print_values(x, X)\n",
    "    return X\n",
    "\n",
    "def newtone_for_splines(x1, y1, x2, y2, eps):\n",
    "    def Jacob(i, j):\n",
    "        \n",
    "    (i, j) = [ (x1[0]+x1[-1])//2, (x2[0]+x2[-1])//2 ]\n",
    "    min_d = 1e10\n",
    "    iter = 0\n",
    "    while ((abs(x1[i]-x2[j]) > eps) || (abs(y1[i] - y2[j]) > eps)) \\\n",
    "        && (iter < 1e3):\n",
    "        "
   ]
  },
  {
   "cell_type": "code",
   "execution_count": 17,
   "id": "486a5c1c",
   "metadata": {},
   "outputs": [
    {
     "data": {
      "image/png": "[encoded data removed]",
      "text/plain": [
       "<Figure size 432x288 with 1 Axes>"
      ]
     },
     "metadata": {
      "needs_background": "light"
     },
     "output_type": "display_data"
    }
   ],
   "source": [
    "a, b = -2, 1\n",
    "X = np.arange(a, b+0.25, 0.25)\n",
    "#print(X)\n",
    "Y = np.sin(X)\n",
    "Y1 = 0.2*X**3 - X**2 + 2*X + 4\n",
    "#print(Y)\n",
    "x0 = np.arange(a, b+0.2, 0.2)\n",
    "y0 = spline(X, Y, x0)\n",
    "y1 = spline(X, Y1, x0)\n",
    "plt.plot(X, Y)\n",
    "plt.plot(x0, y0, label = \"Spline 1\")\n",
    "plt.plot(x0, y1, label = \"Spline 2\")\n",
    "plt.legend()\n",
    "plt.show()"
   ]
  },
  {
   "cell_type": "code",
   "execution_count": null,
   "id": "7ec60d23",
   "metadata": {},
   "outputs": [],
   "source": []
  }
 ],
 "metadata": {
  "kernelspec": {
   "display_name": "Python 3 (ipykernel)",
   "language": "python",
   "name": "python3"
  },
  "language_info": {
   "codemirror_mode": {
    "name": "ipython",
    "version": 3
   },
   "file_extension": ".py",
   "mimetype": "text/x-python",
   "name": "python",
   "nbconvert_exporter": "python",
   "pygments_lexer": "ipython3",
   "version": "3.10.4"
  }
 },
 "nbformat": 4,
 "nbformat_minor": 5
}
